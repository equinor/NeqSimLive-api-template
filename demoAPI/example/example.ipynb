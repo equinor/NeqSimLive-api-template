{
 "cells": [
  {
   "cell_type": "markdown",
   "metadata": {},
   "source": [
    "# Example of running API"
   ]
  },
  {
   "cell_type": "markdown",
   "metadata": {},
   "source": [
    "Examples of calculations using the Demo API\n",
    "\n",
    "Run the API locally using the command:\n",
    "cd demoAPI/src\n",
    "uvicorn main:app --reload \n",
    "\n",
    "http://localhost:8000/\n",
    "\n",
    "\n",
    "Fast API documentation: https://fastapi.tiangolo.com/"
   ]
  },
  {
   "cell_type": "code",
   "execution_count": 1,
   "metadata": {},
   "outputs": [
    {
     "name": "stdout",
     "output_type": "stream",
     "text": [
      "{'polytropicEfficiency': 0.8074136806721035, 'polytropicFluidHead': 116.55320136694323}\n"
     ]
    }
   ],
   "source": [
    "import json\n",
    "import requests\n",
    "\n",
    "datasphaseopt = {\n",
    "        \"N2\": 0.01,\n",
    "        \"CO2\": 0.02,\n",
    "        \"methane\": 0.9,\n",
    "        \"ethane\": 0.05,\n",
    "        \"propane\": 0.02,\n",
    "        \"ibutane\": 0.01,\n",
    "        \"nbutane\": 0.01,\n",
    "        \"npentane\": 0.01,\n",
    "        \"nhexane\": 0.001,\n",
    "        'temperature_inlet': 20.0,\n",
    "        'pressure_inlet': 25.0,\n",
    "        'temperature_outlet': 95.0,\n",
    "        'pressure_outlet': 60.0\n",
    "} \n",
    "data_json1 = json.dumps(datasphaseopt)\n",
    "\n",
    "try:\n",
    "    response = requests.post('http://localhost:8000/compressorCalc', data_json1)\n",
    "    print(response.json())\n",
    "except:\n",
    "    print(\"Did not\")\n"
   ]
  },
  {
   "cell_type": "markdown",
   "metadata": {},
   "source": [
    "# Example using the tagreader python package for connecting to plant data\n",
    "In the following example we use the [tagreader library](https://github.com/equinor/tagreader-python) for reading plant data and calculate results based on the API. In the following exmaple the TAG names are anonymized. Replace them with correct TAG numbers for your example."
   ]
  },
  {
   "cell_type": "code",
   "execution_count": null,
   "metadata": {},
   "outputs": [],
   "source": [
    "!pip install tagreader"
   ]
  },
  {
   "cell_type": "code",
   "execution_count": null,
   "metadata": {},
   "outputs": [],
   "source": [
    "import pandas as pd\n",
    "import requests\n",
    "import json\n",
    "import tagreader\n",
    "from tagreader.utils import ReaderType\n",
    "\n",
    "#Connect to to plant data (see TAGreader documentation)\n",
    "c = tagreader.IMSClient('xxxxx', 'xxxxx')\n",
    "c.cache = None\n",
    "c.connect()\n",
    "\n",
    "#Specify tan names\n",
    "tags = ['xxxx-25TTxxx-U001', 'xxxx-25PTxxx-U002', 'xxxx-25TTxxx-U003', 'xxxx-25PTxxx-U004']\n",
    "\n",
    "#Read plant data for a given time frame\n",
    "df = c.read(tags, '1-Jan-21 12:00:00', '10-Jan-21 12:01:00', 3600)\n",
    "\n",
    "#Run calcuation for all data\n",
    "for i in range(len(df)):\n",
    "    data = {\n",
    "        'temperature_inlet' = dfram.iloc[i][1],\n",
    "        'pressure_inlet' = dfram.iloc[i][2],\n",
    "        'temperature_outlet' = dfram.iloc[i][3],\n",
    "        'temperature_outlet' = dfram.iloc[i][4]\n",
    "    }\n",
    "    try:\n",
    "        response = requests.post('http://localhost:8000/compressorCalc', json(data))\n",
    "        print(response.json())\n",
    "    except:\n",
    "        print(\"Did not calculate\")\n",
    "    \n",
    "    \n",
    "\n"
   ]
  }
 ],
 "metadata": {
  "interpreter": {
   "hash": "57baa5815c940fdaff4d14510622de9616cae602444507ba5d0b6727c008cbd6"
  },
  "kernelspec": {
   "display_name": "Python 3.7.8 64-bit",
   "language": "python",
   "name": "python3"
  },
  "language_info": {
   "codemirror_mode": {
    "name": "ipython",
    "version": 3
   },
   "file_extension": ".py",
   "mimetype": "text/x-python",
   "name": "python",
   "nbconvert_exporter": "python",
   "pygments_lexer": "ipython3",
   "version": "3.10.4"
  },
  "orig_nbformat": 4
 },
 "nbformat": 4,
 "nbformat_minor": 2
}
