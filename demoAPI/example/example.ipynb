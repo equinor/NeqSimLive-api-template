{
 "cells": [
  {
   "cell_type": "markdown",
   "metadata": {},
   "source": [
    "# Example of running API"
   ]
  },
  {
   "cell_type": "markdown",
   "metadata": {},
   "source": [
    "Examples of calculations using the Demo API\n",
    "\n",
    "Run the API localy using the command:\n",
    "uvicorn main:app --reload \n",
    "\n",
    "http://localhost:8000/\n",
    "\n",
    "\n",
    "Fast API documentation: https://fastapi.tiangolo.com/"
   ]
  },
  {
   "cell_type": "code",
   "execution_count": 1,
   "metadata": {},
   "outputs": [
    {
     "data": {
      "text/plain": [
       "{'polytropicEfficiency': 0.8074136806721035,\n",
       " 'polytropiFluidHeaad': 116.55320136694323}"
      ]
     },
     "execution_count": 1,
     "metadata": {},
     "output_type": "execute_result"
    }
   ],
   "source": [
    "import json\n",
    "import requests\n",
    "\n",
    "datasphaseopt = {\n",
    "        \"N2\": 0.01,\n",
    "        \"CO2\": 0.02,\n",
    "        \"methane\": 0.9,\n",
    "        \"ethane\": 0.05,\n",
    "        \"propane\": 0.02,\n",
    "        \"ibutane\": 0.01,\n",
    "        \"nbutane\": 0.01,\n",
    "        \"npentane\": 0.01,\n",
    "        \"nhexane\": 0.001,\n",
    "        'temperature_inlet': 20.0,\n",
    "        'pressure_inlet': 25.0,\n",
    "        'temperature_outlet': 95.0,\n",
    "        'pressure_outlet': 60.0\n",
    "} \n",
    "data_json1 = json.dumps(datasphaseopt)\n",
    "\n",
    "try:\n",
    "        response = requests.post('http://localhost:8000/compressorCalc', data_json1)  \n",
    "except:\n",
    "        print(\"No respons after max time...continuing\")\n",
    "\n",
    "response.json()"
   ]
  }
 ],
 "metadata": {
  "interpreter": {
   "hash": "57baa5815c940fdaff4d14510622de9616cae602444507ba5d0b6727c008cbd6"
  },
  "kernelspec": {
   "display_name": "Python 3.7.8 64-bit",
   "language": "python",
   "name": "python3"
  },
  "language_info": {
   "codemirror_mode": {
    "name": "ipython",
    "version": 3
   },
   "file_extension": ".py",
   "mimetype": "text/x-python",
   "name": "python",
   "nbconvert_exporter": "python",
   "pygments_lexer": "ipython3",
   "version": "3.7.9"
  },
  "orig_nbformat": 4
 },
 "nbformat": 4,
 "nbformat_minor": 2
}
